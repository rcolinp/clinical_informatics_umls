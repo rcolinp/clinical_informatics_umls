{
 "cells": [
  {
   "cell_type": "code",
   "execution_count": null,
   "id": "7f836281",
   "metadata": {},
   "outputs": [],
   "source": [
    "import numpy as np\n",
    "import pandas as pd\n",
    "from sqlalchemy import create_engine\n",
    "\n",
    "\n",
    "pd.set_option('display.max_rows', 999)\n",
    "pd.set_option('display.max_columns', None)\n",
    "pd.set_option('display.max_colwidth', None)"
   ]
  },
  {
   "cell_type": "code",
   "execution_count": null,
   "id": "daa18f0f",
   "metadata": {},
   "outputs": [],
   "source": [
    "# create engine\n",
    "SQLITE_DB = 'sqlite/umls_py.db'\n",
    "engine = create_engine(f\"sqlite:///{SQLITE_DB}\")"
   ]
  },
  {
   "cell_type": "markdown",
   "id": "2b1e440b",
   "metadata": {},
   "source": [
    "### Concept Nodes - Concept Unique Identifier (CUI)"
   ]
  },
  {
   "cell_type": "code",
   "execution_count": null,
   "id": "27b86089",
   "metadata": {},
   "outputs": [],
   "source": [
    "def cui_nodes():\n",
    "    sql = \"\"\"\n",
    "    SELECT DISTINCT MRCONSO.CUI, MRCONSO.STR, (STY_GROUP || ';' || 'Concept')\n",
    "    FROM MRCONSO, MRSTY, SRGRP\n",
    "    WHERE MRCONSO.CUI = MRSTY.CUI\n",
    "    AND MRSTY.STY = SRGRP.STY\n",
    "    AND MRCONSO.SAB IN ('{0}', '{1}', '{2}', '{3}', '{4}', '{5}', '{6}', '{7}', '{8}')\n",
    "    AND MRCONSO.SUPPRESS = 'N'\n",
    "    AND MRCONSO.ISPREF = 'Y'\n",
    "    AND MRCONSO.TS = 'P'\n",
    "    AND MRCONSO.STT = 'PF'\n",
    "    AND MRCONSO.TTY NOT IN ('{9}', '{10}')\n",
    "    AND MRCONSO.TTY NOT LIKE 'MTH%';\n",
    "    \"\"\".format('ATC', 'GO', 'HGNC', 'HPO', 'MED-RT', 'NCI', 'OMIM', 'RXNORM', 'SNOMEDCT_US', 'PTGB', 'SYGB')\n",
    "    df = pd.read_sql_query(sql, engine).drop_duplicates(\n",
    "        ['CUI']).replace(np.nan, \"\")\n",
    "    df.columns = ['Cui:ID', 'prefLabel', ':LABEL']\n",
    "    df.to_csv(\n",
    "        path_or_buf='../../../import/cuiNode.csv',\n",
    "        index=False,\n",
    "        header=True\n",
    "    )\n",
    "    return df\n",
    "\n",
    "\n",
    "cuiNode = cui_nodes()\n",
    "print({len(cuiNode)})\n",
    "cuiNode.head()"
   ]
  },
  {
   "cell_type": "code",
   "execution_count": null,
   "id": "bf235ffa",
   "metadata": {},
   "outputs": [],
   "source": [
    "# Create a set of all umls_cuis contained in cuiNode.csv\n",
    "cui_set = set(cuiNode['Cui:ID'])"
   ]
  },
  {
   "cell_type": "markdown",
   "id": "9e5b42d4",
   "metadata": {},
   "source": [
    "### Atom/Code Nodes - Atomic Unique Identifier (AUI)"
   ]
  },
  {
   "cell_type": "code",
   "execution_count": null,
   "id": "e85f278d",
   "metadata": {},
   "outputs": [],
   "source": [
    "def aui_nodes():\n",
    "    sql = \"\"\"\n",
    "    SELECT DISTINCT MRCONSO.AUI,\n",
    "                    MRCONSO.STR,\n",
    "                    MRCONSO.SAB, \n",
    "                    MRCONSO.CODE, \n",
    "                    MRCONSO.TTY, \n",
    "                    MRCONSO.ISPREF, \n",
    "                    MRCONSO.TS, \n",
    "                    MRCONSO.STT, \n",
    "                    (MRCONSO.SAB || ';' || 'Atom')\n",
    "    FROM MRCONSO\n",
    "    WHERE MRCONSO.SAB IN ('{0}', '{1}', '{2}', '{3}', '{4}', '{5}', '{6}', '{7}', '{8}')\n",
    "    AND MRCONSO.SUPPRESS = 'N'\n",
    "    AND MRCONSO.TTY NOT IN ('{9}', '{10}')\n",
    "    AND MRCONSO.TTY NOT LIKE 'MTH%';\n",
    "    \"\"\".format('ATC', 'GO', 'HGNC', 'HPO', 'MED-RT', 'NCI', 'OMIM', 'RXNORM', 'SNOMEDCT_US', 'PTGB', 'SYGB')\n",
    "    df = pd.read_sql_query(sql, engine).drop_duplicates().replace(np.nan, \"\")\n",
    "    df.columns = ['Atom:ID', 'str', 'sab', 'code', 'tty',\n",
    "                  'ispref', 'ts', 'stt', ':LABEL']\n",
    "    df.to_csv(\n",
    "        path_or_buf='../../../import/atomNode.csv',\n",
    "        index=False,\n",
    "        header=True\n",
    "    )\n",
    "    return df\n",
    "\n",
    "\n",
    "atomNode = aui_nodes()\n",
    "print({len(atomNode)})\n",
    "atomNode.head()"
   ]
  },
  {
   "cell_type": "code",
   "execution_count": null,
   "id": "f09c0bce",
   "metadata": {},
   "outputs": [],
   "source": [
    "# Create a set of all umls_auis (atoms) contained in atomNode.csv\n",
    "aui_set = set(atomNode['Atom:ID'])"
   ]
  },
  {
   "cell_type": "markdown",
   "id": "1f92facc",
   "metadata": {},
   "source": [
    "### Semantic Type Nodes - Semantic Unique Identifier (TUI)"
   ]
  },
  {
   "cell_type": "code",
   "execution_count": null,
   "id": "29cdf511",
   "metadata": {},
   "outputs": [],
   "source": [
    "def sty_nodes():\n",
    "    sql = f\"\"\"\n",
    "    SELECT DISTINCT MRSTY.TUI, \n",
    "                    MRSTY.STY, \n",
    "                    MRSTY.STN, \n",
    "                    SRGRP.STY_GROUP_ABBREV, \n",
    "                    'SemanticType' AS \":LABEL\"\n",
    "    FROM MRSTY, \n",
    "         SRGRP \n",
    "    WHERE MRSTY.STY = SRGRP.STY \n",
    "    AND MRSTY.CUI IN {tuple(cui_set)};\n",
    "    \"\"\"\n",
    "    df = pd.read_sql_query(sql, engine).drop_duplicates().replace(np.nan, \"\")\n",
    "    df.columns = ['Tui:ID', 'sty', 'stn', 'sty_group', ':LABEL']\n",
    "    df.to_csv(\n",
    "        path_or_buf=\"../../../import/styNode.csv\",\n",
    "        index=False,\n",
    "        header=True\n",
    "    )\n",
    "    return df\n",
    "\n",
    "\n",
    "styNode = sty_nodes()\n",
    "print({len(styNode)})\n",
    "styNode.head()"
   ]
  },
  {
   "cell_type": "markdown",
   "id": "669b0e99",
   "metadata": {},
   "source": [
    "### Concept -> Semantic Type Relationship"
   ]
  },
  {
   "cell_type": "code",
   "execution_count": null,
   "id": "5a4469a8",
   "metadata": {},
   "outputs": [],
   "source": [
    "def has_sty_rel():\n",
    "    sql = f\"\"\"\n",
    "    SELECT DISTINCT MRCONSO.CUI, \n",
    "                    MRSTY.TUI, \n",
    "                    'HAS_STY' AS \":TYPE\"\n",
    "    FROM MRCONSO\n",
    "    JOIN MRSTY ON MRCONSO.CUI = MRSTY.CUI\n",
    "    WHERE MRCONSO.CUI IN {tuple(cui_set)}\n",
    "    AND MRCONSO.SUPPRESS = 'N';\n",
    "    \"\"\"\n",
    "    df = pd.read_sql_query(sql, engine).drop_duplicates().replace(np.nan, \"\")\n",
    "    df.columns = [\":START_ID\", \":END_ID\", \":TYPE\"]\n",
    "    df.to_csv(\n",
    "        path_or_buf=\"../../../import/cui_sty_rel.csv\", header=True, index=False\n",
    "    )\n",
    "\n",
    "    return df\n",
    "\n",
    "\n",
    "has_sty = has_sty_rel()\n",
    "print({len(has_sty)})\n",
    "has_sty.head()"
   ]
  },
  {
   "cell_type": "markdown",
   "id": "f7a10509",
   "metadata": {},
   "source": [
    "### Atom -> Concept Relationship"
   ]
  },
  {
   "cell_type": "code",
   "execution_count": null,
   "id": "7f847775",
   "metadata": {},
   "outputs": [],
   "source": [
    "def has_cui_rel():\n",
    "    sql = f\"\"\"\n",
    "    SELECT DISTINCT AUI, CUI, 'HAS_CUI'\n",
    "    FROM MRCONSO\n",
    "    WHERE AUI IN {tuple(aui_set)}\n",
    "    AND CUI IN {tuple(cui_set)}\n",
    "    AND SUPPRESS = 'N';\n",
    "    \"\"\"\n",
    "    df = pd.read_sql_query(sql, engine).drop_duplicates().replace(np.nan, \"\")\n",
    "    df.columns = [\":START_ID\", \":END_ID\", \":TYPE\"]\n",
    "    df.to_csv(\n",
    "        path_or_buf=\"../../../import/has_cui.csv\", header=True, index=False\n",
    "    )\n",
    "    return df\n",
    "\n",
    "\n",
    "has_atom = has_aui_rel()\n",
    "print({len(has_atom)})\n",
    "has_atom.head()"
   ]
  },
  {
   "cell_type": "markdown",
   "id": "37988cb5",
   "metadata": {},
   "source": [
    "### Concept -> Concept Relationships \n",
    "##### Note: There are many of these - further filtering advised\n",
    "\n",
    "- Should also remove redundant reverse relationships that provide no value?"
   ]
  },
  {
   "cell_type": "code",
   "execution_count": null,
   "id": "c43f99bd",
   "metadata": {},
   "outputs": [],
   "source": [
    "def cui_cui_rel():\n",
    "    sql = f\"\"\"\n",
    "    SELECT CUI2, CUI1, CASE WHEN RELA = '' THEN REL ELSE RELA END AS \":TYPE\"\n",
    "    FROM MRREL\n",
    "    WHERE MRREL.CUI2 IN {tuple(cui_set)}\n",
    "    AND MRREL.CUI1 IN {tuple(cui_set)}\n",
    "    AND MRREL.SUPPRESS = 'N';\n",
    "    \"\"\"\n",
    "    df = pd.read_sql_query(sql, engine).drop_duplicates().replace(np.nan, \"\")\n",
    "    df.columns = [\":START_ID\", \":END_ID\", \":TYPE\"]\n",
    "    df = (\n",
    "        df[\n",
    "            (df[\":START_ID\"] != df[\":END_ID\"])\n",
    "            & (df[\":TYPE\"] != \"SIB\")\n",
    "            & (df[\":TYPE\"] != \"SY\")\n",
    "        ]\n",
    "        .drop_duplicates()\n",
    "        .replace(np.nan, \"\")\n",
    "    )\n",
    "    df[\":TYPE\"] = df[\":TYPE\"].str.upper()\n",
    "    df[\":TYPE\"] = df[\":TYPE\"].str.replace(\"-\", \"_\")\n",
    "    df.to_csv(\"../../../import/cui_rel.csv\", header=True, index=False)\n",
    "    return df\n",
    "\n",
    "\n",
    "cui_rel = cui_cui_rel()\n",
    "print({len(cui_rel)})\n",
    "cui_rel.head()"
   ]
  },
  {
   "cell_type": "code",
   "execution_count": null,
   "id": "9cb21b32",
   "metadata": {},
   "outputs": [],
   "source": [
    "# # Relationships distilled to a single direction (no redundant relationships)\n",
    "# cuirel = cui_rel[cui_rel[':TYPE'].isin(['INVERSE_ISA', 'SUBSET_INCLUDES_CONCEPT', 'INACTIVE_INGREDIENT_OF', 'INGREDIENT_OF', 'HAS_DOSE_FORM'\n",
    "#                                         'HAS_METHOD', 'TRADENAME_OF', 'CONSISTS_OF', 'DISEASE_HAS_ABNORMAL_CELL', 'MANIFESTATION_OF'\n",
    "#                                         'FINDING_SITE_OF', 'ACTIVE_INGREDIENT_OF', 'ASSOCIATED_MORPHOLOGY_OF', 'IS_FINDING_OF_DISEASE', 'HAS_ALLELIC_VARIANT'\n",
    "#                                         'PAR', 'INTERPRETS', 'PROCESS_INVOLVES_GENE', 'IS_NOT_FINDING_OF_DISEASE', 'ACTIVE_MOIETY_OF'\n",
    "#                                         'LATERALITY_OF', 'RB', 'HAS_PARENT', 'PART_OF', 'IS_NOT_ABNORMAL_CELL_OF_DISEASE'\n",
    "#                                         'PHENOTYPE_OF', 'DOSEFORMGROUP_OF', 'PATHOLOGICAL_PROCESS_OF', 'HAS_OCCURRENCE', 'PATHWAY_HAS_GENE_ELEMENT'\n",
    "#                                         'HAS_ENTIRE_ANATOMY_STRUCTURE', 'INTERPRETATION_OF', 'HAS_COMPONENT', 'CAUSE_OF', 'HAS_DIRECT_PROCEDURE_SITE'\n",
    "#                                         'HAS_PHYSIOLOGIC_EFFECT', 'CHEMOTHERAPY_REGIMEN_HAS_COMPONENT', 'IS_ASSOCIATED_ANATOMIC_SITE_OF', 'CAUSATIVE_AGENT_OF', 'MAPPED_FROM'\n",
    "#                                         'DISEASE_HAS_NORMAL_TISSUE_ORIGIN', 'ROLE_PLAYED_BY', 'DISEASE_MAY_HAVE_CYTOGENETIC_ABNORMALITY', 'DISEASE_MAY_HAVE_FINDING', 'HAS_PRECISE_ACTIVE_INGREDIENT'\n",
    "#                                         'BASIS_OF_STRENGTH_SUBSTANCE_OF', 'IS_VALUE_FOR_GDC_PROPERTY', 'DISEASE_MAY_HAVE_MOLECULAR_ABNORMALITY', 'GENE_PRODUCT_ENCODED_BY_GENE', 'MECHANISM_OF_ACTION_OF'\n",
    "#                                         'IS_PRIMARY_ANATOMIC_SITE_OF_DISEASE', 'PRECISE_INGREDIENT_OF', 'DISEASE_IS_STAGE', 'HAS_DISPOSITION', 'HAS_TEMPORAL_CONTEXT'\n",
    "#                                         'BIOLOGICAL_PROCESS_INVOLVES_GENE_PRODUCT', 'IS_NORMAL_CELL_ORIGIN_OF_DISEASE', 'SUBJECT_RELATIONSHIP_CONTEXT_OF', 'HAS_INTENT', 'CLINICAL_COURSE_OF'\n",
    "#                                         'PRESENTATION_STRENGTH_NUMERATOR_UNIT_OF', 'HAS_UNIT_OF_PRESENTATION', 'UNIT_OF_PRESENTATION_OF', 'PRESENTATION_STRENGTH_DENOMINATOR_UNIT_OF', 'HAS_MEMBER'\n",
    "#                                         'GENE_IN_CHROMOSOMAL_LOCATION', 'HAS_INGREDIENTS', 'HAS_CTCAE_5_PARENT', 'CONTAINS', 'GENE_PRODUCT_IS_ELEMENT_IN_PATHWAY'\n",
    "#                                         'HAS_INHERITANCE_TYPE', 'REGULATES', 'DIRECT_MORPHOLOGY_OF', 'FORM_OF', 'GENE_INVOLVED_IN_MOLECULAR_ABNORMALITY'\n",
    "#                                         'EO_DISEASE_HAS_ASSOCIATED_EO_ANATOMY', 'DISEASE_MAPPED_TO_GENE', 'SPECIMEN_OF', 'GENETIC_BIOMARKER_RELATED_TO', 'HAS_DIRECT_SUBSTANCE'\n",
    "#                                         'NEGATIVELY_REGULATES', 'POSITIVELY_REGULATES', 'USES_DEVICE', 'FOCUS_OF', 'HAS_PROCEDURE_CONTEXT'\n",
    "#                                         'DIRECT_DEVICE_OF', 'HAS_FINDING_CONTEXT', 'CLASSIFIED_AS', 'INDIRECT_PROCEDURE_SITE_OF', 'HAS_THERAPEUTIC_CLASS'\n",
    "#                                         'ANATOMIC_STRUCTURE_IS_PHYSICAL_PART_OF', 'CONCENTRATION_STRENGTH_NUMERATOR_UNIT_OF', 'HAS_CONCENTRATION_STRENGTH_DENOMINATOR_UNIT', 'IS_MECHANISM_OF_ACTION_OF_CHEMICAL_OR_DRUG', 'IS_MODIFICATION_OF'\n",
    "#                                         'HAS_FINDING_METHOD', 'IS_PHYSIOLOGIC_EFFECT_OF_CHEMICAL_OR_DRUG', 'HAS_ASSOCIATED_PROCEDURE', 'GENE_PRODUCT_SEQUENCE_VARIATION_ENCODED_BY_GENE_MUTANT', 'HAS_ACCESS'\n",
    "#                                         'CONTRAINDICATED_CLASS_OF', 'IS_STRUCTURAL_DOMAIN_OR_MOTIF_OF_GENE_PRODUCT', 'HAS_PROPERTY', 'IS_GRADE_OF_DISEASE', 'HAS_REALIZATION'\n",
    "#                                         'HAS_FREE_ACID_OR_BASE_FORM', 'IS_NOT_NORMAL_CELL_ORIGIN_OF_DISEASE', 'MOVED_FROM', 'IS_MOLECULAR_ABNORMALITY_OF_DISEASE', 'HAS_PROCEDURE_SITE'\n",
    "#                                         'ASSOCIATED_FINDING_OF', 'DISEASE_MAY_HAVE_ABNORMAL_CELL', 'HAS_REVISION_STATUS', 'OCCURS_BEFORE', 'GENE_HAS_PHYSICAL_LOCATION'\n",
    "#                                         'USES_SUBSTANCE', 'SCALE_TYPE_OF', 'HAS_REGIONAL_PART', 'SPECIMEN_PROCEDURE_OF', 'SPECIMEN_SUBSTANCE_OF'\n",
    "#                                         'CONSIDER', 'REPLACES', 'PRIMARY_MAPPED_FROM', 'HAS_SURGICAL_APPROACH', 'CHARACTERIZED_BY'\n",
    "#                                         'PATHOGENESIS_OF_DISEASE_INVOLVES_GENE', 'WAS_A', 'TIME_ASPECT_OF', 'DISEASE_EXCLUDES_PRIMARY_ANATOMIC_SITE', 'GENE_PRODUCT_HAS_BIOCHEMICAL_FUNCTION'\n",
    "#                                         'HAS_PHARMACEUTICAL_STATE_OF_MATTER', 'PHARMACEUTICAL_BASIC_DOSE_FORM_OF', 'REFERRED_TO_BY', 'HAS_PHARMACEUTICAL_ADMINISTRATION_METHOD', 'DISEASE_EXCLUDES_MOLECULAR_ABNORMALITY'\n",
    "#                                         'IS_TARGET', 'HAS_PHARMACEUTICAL_TRANSFORMATION', 'PHARMACEUTICAL_INTENDED_SITE_OF', 'PHARMACEUTICAL_RELEASE_CHARACTERISTICS_OF', 'HAS_PCDC_AML_PERMISSIBLE_VALUE'\n",
    "#                                         'HAS_PHARMACEUTICAL_RELEASE_CHARACTERISTICS', 'HAS_LAB_NUMBER', 'HAS_INHERENT_ATTRIBUTE', 'CONTRAINDICATED_MECHANISM_OF_ACTION_OF', 'DISEASE_EXCLUDES_CYTOGENETIC_ABNORMALITY'\n",
    "#                                         'OTHER_MAPPED_FROM', 'VALUE_SET_IS_PAIRED_WITH', 'HAS_SPECIMEN_SOURCE_TOPOGRAPHY', 'GENE_PRODUCT_HAS_ASSOCIATED_ANATOMY', 'IS_PCDC_EWS_PERMISSIBLE_VALUE_FOR_VARIABLE'\n",
    "#                                         'HAS_PROCESS_DURATION', 'DISEASE_HAS_ASSOCIATED_GENE', 'HAS_PROCESS_OUTPUT', 'PROCESS_OUTPUT_OF', 'HAS_DOSE_FORM_INTENDED_SITE'\n",
    "#                                         'CONSTITUTIONAL_PART_OF', 'EO_DISEASE_MAPS_TO_HUMAN_DISEASE', 'HAS_DIRECT_SITE', 'ACCESS_DEVICE_USED_BY', 'IS_PCDC_GCT_PERMISSIBLE_VALUE_FOR_VARIABLE'\n",
    "#                                         'DOSE_FORM_ADMINISTRATION_METHOD_OF', 'HAS_DOSE_FORM_ADMINISTRATION_METHOD', 'DOSE_FORM_RELEASE_CHARACTERISTIC_OF', 'HAS_CONTRAINDICATED_PHYSIOLOGIC_EFFECT', 'EO_DISEASE_HAS_PROPERTY_OR_ATTRIBUTE'\n",
    "#                                         'HAS_DOSE_FORM_TRANSFORMATION', 'IS_NOT_NORMAL_TISSUE_ORIGIN_OF_DISEASE', 'IS_CYTOGENETIC_ABNORMALITY_OF_DISEASE', 'ANSWER_TO_IS_STERILE', 'IS_STERILE'\n",
    "#                                         'HAS_TECHNIQUE', 'IS_SERONET_PERMISSIBLE_VALUE_FOR_VARIABLE', 'HAS_PCDC_ALL_PERMISSIBLE_VALUE', 'IS_ABNORMALITY_OF_GENE', 'FINDING_INFORMER_OF'\n",
    "#                                         'HAS_FINDING_INFORMER', 'STRUCTURAL_CLASS_OF', 'HAS_PCDC_DATA_TYPE', 'MAY_BE_ASSOCIATED_DISEASE_OF_DISEASE', 'BIOLOGICAL_PROCESS_IS_PART_OF_PROCESS'\n",
    "#                                         'PRIORITY_OF', 'BRANCH_OF', 'HAS_INC_PARENT', 'GENE_PRODUCT_VARIANT_OF_GENE_PRODUCT', 'HAS_ABSORBABILITY'\n",
    "#                                         'HAS_ROUTE_OF_ADMINISTRATION', 'HAS_TRIBUTARY', 'DURING', 'ALLELE_HAS_ABNORMALITY', 'HAS_INDIRECT_MORPHOLOGY'\n",
    "#                                         'HAS_PART_ANATOMY_STRUCTURE', 'GENE_PRODUCT_HAS_CHEMICAL_CLASSIFICATION', 'PROCESS_ALTERED_BY_ALLELE', 'HAS_COMPOSITIONAL_MATERIAL', 'COMPLEX_HAS_PHYSICAL_PART'\n",
    "#                                         'REGIMEN_HAS_ACCEPTED_USE_FOR_DISEASE', 'PROCEDURE_HAS_TARGET_ANATOMY', 'HAS_BASIC_DOSE_FORM', 'HAS_CTDC_VALUE', 'PROCEDURE_DEVICE_OF'\n",
    "#                                         'ALLELE_IN_CHROMOSOMAL_LOCATION', 'DISEASE_HAS_ASSOCIATED_DISEASE', 'MAY_BE_PREVENTED_BY', 'PROCEDURE_MORPHOLOGY_OF', 'HAS_PROCEDURE_MORPHOLOGY'\n",
    "#                                         'MAY_BE_NORMAL_CELL_ORIGIN_OF_DISEASE', 'KIND_IS_RANGE_OF', 'DISEASE_MAY_HAVE_NORMAL_CELL_ORIGIN', 'EXTENDED_TO_BY_PROCESS', 'GENE_PRODUCT_IS_BIOMARKER_TYPE'\n",
    "#                                         'BIOMARKER_TYPE_INCLUDES_GENE_PRODUCT', 'RECEIVES_DRAINAGE_FROM', 'ALLELE_HAS_ACTIVITY', 'USES_ENERGY', 'KIND_IS_DOMAIN_OF'\n",
    "#                                         'ROLE_HAS_DOMAIN', 'HAS_ICDC_VALUE', 'BIOLOGICAL_PROCESS_HAS_INITIATOR_PROCESS', 'ENZYME_METABOLIZES_CHEMICAL_OR_DRUG', 'GENE_PRODUCT_AFFECTED_BY_CHEMICAL_OR_DRUG'\n",
    "#                                         'INVERSE_RELATIVE_TO', 'SPECIMEN_SOURCE_MORPHOLOGY_OF', 'INHERENT_LOCATION_OF', 'DISEASE_HAS_METASTATIC_ANATOMIC_SITE', 'DEVICE_INTENDED_SITE_OF'\n",
    "#                                         'HAS_INDIRECT_DEVICE', 'GENE_PRODUCT_EXPRESSED_IN_TISSUE', 'SEVERITY_OF', 'CONTINUOUS_PROXIMALLY_WITH', 'CONTINUOUS_DISTALLY_WITH'\n",
    "#                                         'SITE_OF_METABOLISM', 'ALIAS_OF', 'ARTICULATES_WITH', 'HAS_ALIAS', 'BOUNDS'\n",
    "#                                         'SUPERIOR_TO', 'PROXIMAL_TO', 'DISTAL_TO', 'HAS_ORIGIN', 'HAS_STATE_OF_MATTER'\n",
    "#                                         'STATE_OF_MATTER_OF', 'BIOLOGICAL_PROCESS_HAS_RESULT_BIOLOGICAL_PROCESS', 'HAS_PHARMACOKINETICS', 'PHARMACOKINETICS_OF', 'PROCEDURE_HAS_EXCISED_ANATOMY'\n",
    "#                                         'IS_LOCATION_OF_BIOLOGICAL_PROCESS', 'BIOLOGICAL_PROCESS_HAS_ASSOCIATED_LOCATION', 'PROCEDURE_HAS_COMPLETELY_EXCISED_ANATOMY', 'HAS_ARTERIAL_SUPPLY', 'INSERTION_OF'\n",
    "#                                         'CHEMICAL_OR_DRUG_AFFECTS_ABNORMAL_CELL', 'ARTERIAL_SUPPLY_OF', 'ABNORMAL_CELL_AFFECTED_BY_CHEMICAL_OR_DRUG', 'HAS_SPECIMEN_SOURCE_IDENTITY', 'UNITS_OF'\n",
    "#                                         'NERVE_SUPPLY_OF', 'HAS_UNITS', 'CHEMICAL_OR_DRUG_INITIATES_BIOLOGICAL_PROCESS', 'HAS_RECIPIENT_CATEGORY', 'CONTRAINDICATED_WITH_DISEASE'\n",
    "#                                         'GENE_PRODUCT_MALFUNCTION_ASSOCIATED_WITH_DISEASE', 'RECEIVES_INPUT_FROM', 'RECEIVES_ATTACHMENT_FROM', 'ATTACHES_TO', 'BIOMARKER_TYPE_INCLUDES_GENE'\n",
    "#                                         'POSTERIOR_TO', 'LATERAL_TO', 'VENOUS_DRAINAGE_OF', 'HAS_VENOUS_DRAINAGE', 'EO_DISEASE_HAS_ASSOCIATED_CELL_TYPE'\n",
    "#                                         'PARTIALLY_EXCISED_ANATOMY_HAS_PROCEDURE', 'GENE_IS_BIOMARKER_OF', 'HAS_TARGET_POPULATION', 'DISEASE_IS_MARKED_BY_GENE'])].drop_duplicates().replace(np.nan, '')  # value_counts()"
   ]
  },
  {
   "cell_type": "markdown",
   "id": "ca2cc7ec",
   "metadata": {},
   "source": [
    "### Atom -> Atom Parent/Children Relationships"
   ]
  },
  {
   "cell_type": "code",
   "execution_count": null,
   "id": "667a8254",
   "metadata": {},
   "outputs": [],
   "source": [
    "def child_of_rel():\n",
    "    sql = f\"\"\"\n",
    "    SELECT DISTINCT h1.PAUI, h1.AUI, 'CHILD_OF'\n",
    "    FROM MRHIER h1,\n",
    "         MRCONSO c1,\n",
    "         MRCONSO c2\n",
    "    WHERE h1.AUI = c1.AUI\n",
    "    AND h1.PAUI = c2.AUI\n",
    "    AND h1.AUI IN {tuple(aui_set)}\n",
    "    AND c1.SUPPRESS = 'N'\n",
    "    AND c2.SUPPRESS = 'N'\n",
    "    \"\"\"\n",
    "    df = pd.read_sql_query(sql, engine)\n",
    "    df.columns = [\":START_ID\", \":END_ID\", \":TYPE\"]\n",
    "    df = df[df[\":START_ID\"] != df[\":END_ID\"]\n",
    "            ].drop_duplicates().replace(np.nan, \"\")\n",
    "    df.to_csv(\n",
    "        path_or_buf=\"../../../import/child_of.csv\", header=True, index=False\n",
    "    )\n",
    "    return df\n",
    "\n",
    "\n",
    "child_of = child_of_rel()\n",
    "print({len(child_of)})\n",
    "child_of.head()"
   ]
  },
  {
   "cell_type": "markdown",
   "id": "a51bde6b",
   "metadata": {},
   "source": [
    "### Semantic Type -> Semantic Type Parent/Children Relationships"
   ]
  },
  {
   "cell_type": "code",
   "execution_count": null,
   "id": "7215d263",
   "metadata": {},
   "outputs": [],
   "source": [
    "def sty_isa():\n",
    "    sql = \"\"\"\n",
    "    SELECT DISTINCT s2.UI, s3.UI, s.RL\n",
    "    FROM SRSTR s\n",
    "    JOIN SRDEF s2 ON s.STY_RL1 = s2.STY_RL\n",
    "    JOIN SRDEF s3 ON s.STY_RL2 = s3.STY_RL\n",
    "    WHERE s2.UI != s3.UI\n",
    "    AND s.RL = 'isa';\n",
    "    \"\"\"\n",
    "    df = pd.read_sql_query(sql, engine).drop_duplicates().replace(np.nan, \"\")\n",
    "    df.columns = [\":START_ID\", \":END_ID\", \":TYPE\"]\n",
    "    df = (\n",
    "        df[df[\":START_ID\"] != df[\":END_ID\"]]\n",
    "        .drop_duplicates()\n",
    "        .replace(np.nan, \"\")\n",
    "    )\n",
    "    df[\":TYPE\"] = df[\":TYPE\"].str.upper()\n",
    "    df.to_csv(\n",
    "        path_or_buf=\"../../../import/sty_sty_rel.csv\", header=True, index=False\n",
    "    )\n",
    "    return df\n",
    "\n",
    "\n",
    "styisa = sty_isa()\n",
    "styisa[':TYPE'] = 'STY_ISA'\n",
    "print({len(styisa)})\n",
    "styisa.head()"
   ]
  },
  {
   "cell_type": "markdown",
   "id": "e48bc70d",
   "metadata": {},
   "source": [
    "### neo4j-admin import "
   ]
  },
  {
   "cell_type": "raw",
   "id": "52a6051b",
   "metadata": {},
   "source": [
    "./bin/neo4j-admin import --database=neo4j --max-memory=60G --nodes='import/styNode.csv' --nodes='import/cuiNode.csv' --nodes='import/atomNode.csv' --relationships='import/cui_rel.csv' --relationships='import/has_cui.csv' --relationships='import/child_of.csv' --relationships='import/cui_sty_rel.csv' --relationships='import/sty_sty_rel.csv' --skip-bad-relationships=true --skip-duplicate-nodes=true"
   ]
  }
 ],
 "metadata": {
  "kernelspec": {
   "display_name": ".venv",
   "language": "python",
   "name": ".venv"
  },
  "language_info": {
   "codemirror_mode": {
    "name": "ipython",
    "version": 3
   },
   "file_extension": ".py",
   "mimetype": "text/x-python",
   "name": "python",
   "nbconvert_exporter": "python",
   "pygments_lexer": "ipython3",
   "version": "3.8.6"
  }
 },
 "nbformat": 4,
 "nbformat_minor": 5
}
